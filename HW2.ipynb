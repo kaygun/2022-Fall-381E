{
 "cells": [
  {
   "cell_type": "markdown",
   "id": "a4fa1187-a2b8-493b-82e8-25bbbab6b78e",
   "metadata": {},
   "source": [
    "# MAT 381E Homework 2\n",
    "\n",
    "## Question 1\n",
    "\n",
    "For this question we are going to use [an NBA dataset](https://sports-statistics.com/sports-data/nba-basketball-datasets-csv-files/). \n",
    "\n",
    "1. Get the data from the season 2018-2019 as a pandas dataframe. Explain each column in the dataset.\n",
    "2. Write a function that takes the `GAME_ID` as the parameter and returns the full dataset for a given match. Test your function on 5 random matches.\n",
    "3. Write a function that takes the `GAME_ID` as the parameter and returns a dictionary of (key,value) pairs where key is a player name and value is how many times that specific player appears in `PLAYER1_NAME`,`PLAYER2_NAME`, or `PLAYER3_NAME` columns.\n",
    "4. Plot the results of Step 3 as a bar chart sorted from the most active player to the least active player for 5 random games.\n",
    "3. Write a function that takes the `GAME_ID` as the parameter and returns a list of pairs of player names where the pair interacted during the game more than once. Test your function on 5 random matches."
   ]
  },
  {
   "cell_type": "code",
   "execution_count": null,
   "id": "4b6e0c67-9122-426e-a51c-080dd77f9758",
   "metadata": {},
   "outputs": [],
   "source": []
  },
  {
   "cell_type": "markdown",
   "id": "d3df56ca-722b-40c2-b2fc-9ce7eaa74203",
   "metadata": {},
   "source": [
    "## Question 2\n",
    "\n",
    "For this question we are going to use [a sample](https://raw.githubusercontent.com/arch-raven/spotify-recsys/main/spotify_million_playlist/dataset/data/mpd.slice.0-999.json) from [Spottify Million Playlist Dataset](https://www.aicrowd.com/challenges/spotify-million-playlist-dataset-challenge).\n",
    "\n",
    "1. Ingest the data as a python dictionary using the [json](https://docs.python.org/3/library/json.html) library.\n",
    "2. Construct a complete list of all artists appearing in the dictionary you obtained in step 1. Then using [`Counter`](https://docs.python.org/3/library/collections.html#collections.Counter) function count how many times each artist appears.\n",
    "3. Filter out those artists that appear fewer than 100 times, and then sort the remaining from the most popular to least popular.\n",
    "4. Plot the result you obtain from Step 3 as a bar chart.\n",
    "5. Repeat Steps 2-4 for the Songs instead of Artists by filtering out the songs that appear 25 times or fewer."
   ]
  },
  {
   "cell_type": "code",
   "execution_count": null,
   "id": "79928c5a-d85f-46ec-8695-bdd7de2dd975",
   "metadata": {},
   "outputs": [],
   "source": []
  },
  {
   "cell_type": "markdown",
   "id": "475df0f0-a5d2-48bc-8eab-796b35581ce7",
   "metadata": {},
   "source": [
    "## Question 3\n",
    "\n",
    "For this question we are going to use [Wordbank Data](https://data.worldbank.org/). I would suggest [wbgapi](https://pypi.org/project/wbgapi/) library.\n",
    "\n",
    "1. Write a function that takes a country name and a list of indicators and returns a pandas data frame with the corresponding data.\n",
    "2. Get the data for Turkey for the following indicators:\n",
    "   * [Poverty headcount ratio at national poverty lines (SI.POV.NAHC)](https://data.worldbank.org/indicator/SI.POV.NAHC)\n",
    "   * [Current health expenditure per capita (SH.XPD.CHEX.PC.CD)](https://data.worldbank.org/indicator/SH.XPD.CHEX.PC.CD)\n",
    "   * [Labor force participation rate, female (% of female population ages 15+) (SL.TLF.CACT.FE.NE.ZS)](https://data.worldbank.org/indicator/SL.TLF.CACT.FE.NE.ZS)\n",
    "   * [Mortality rate, under-5 (per 1,000 live births) (SH.DYN.MORT)](https://data.worldbank.org/indicator/SH.DYN.MORT)\n",
    "   * [Literacy rate, adult female (% of females ages 15 and above) (SE.ADT.LITR.FE.ZS)](https://data.worldbank.org/indicator/SE.ADT.LITR.FE.ZS)\n",
    "3. Write a function that draws a line plot for a given list of indicators against time (i.e. the x-axis will be the time) AFTER it drops the years where data is not available. Draw a line plot for Turkey for all of the indicators I listed above.\n",
    "4. Write a function that takes two indicators `id1` and `id2` and does a scatter plot of `id1` against `id2` after it drops the years where data is not available for one of the indicators. Your plot must have labels on the x- and the y-axes to indicate which indicators were used. Then draw a scatter plot (10 in total) for every pair of indicators I listed above."
   ]
  },
  {
   "cell_type": "code",
   "execution_count": null,
   "id": "7d394d1f-7c8c-43ae-ad92-34e44c9c24f0",
   "metadata": {},
   "outputs": [],
   "source": []
  }
 ],
 "metadata": {
  "kernelspec": {
   "display_name": "Python 3 (ipykernel)",
   "language": "python",
   "name": "python3"
  },
  "language_info": {
   "codemirror_mode": {
    "name": "ipython",
    "version": 3
   },
   "file_extension": ".py",
   "mimetype": "text/x-python",
   "name": "python",
   "nbconvert_exporter": "python",
   "pygments_lexer": "ipython3",
   "version": "3.10.8"
  }
 },
 "nbformat": 4,
 "nbformat_minor": 5
}
