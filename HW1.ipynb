{
 "cells": [
  {
   "cell_type": "markdown",
   "id": "79f6d4d6-18b4-4e6f-b09c-d3df0105db6a",
   "metadata": {},
   "source": [
    "# Homework #1\n",
    "\n",
    "Remember: You must ingest the data to your notebooks directly from the data server. Also, don't write the same code with modifications to do similar things over and over again. Write a function.\n",
    "\n",
    "## Question #1\n",
    "\n",
    "For this question use the data [at this link](https://data.ibb.gov.tr/dataset/hourly-public-transport-data-set).\n",
    "\n",
    "1. Calculate total hourly uses of different modes of transports (RAY, KARAYOLU, DENİZ) as pandas data frames for January 2021 and June 2021. Do you see any differences in usage patterns? Explain.\n",
    "2. Calculate total hourly uses of different transfer types (AKTARMA, NORMAL) as pandas data frames for June 2020 and in September 2020.\n",
    "3. Plot the results for step #1 and #2.\n",
    "4. Calculate the daily totals for each line, and find out the busiest lines in each day of April 2020\n",
    "5. Calculate the daily totals of passenger numbers and passage numbers, then calculate the daily ratios of passage numbers by passenger numbers for August 2020. What do the numbers tell you?\n"
   ]
  },
  {
   "cell_type": "code",
   "execution_count": null,
   "id": "50b368f9-d760-416c-b3b6-db8e6f9d61a6",
   "metadata": {},
   "outputs": [],
   "source": []
  },
  {
   "cell_type": "markdown",
   "id": "7906e0a5-fbb7-4bf0-b77d-522aee1967c5",
   "metadata": {},
   "source": [
    "## Question #2\n",
    "\n",
    "For this question use the data [at this link](https://alaska.usgs.gov/products/data.php?dataid=522). This dataset contains isotope values of muscle tissue from fish collected in the nearshore Beaufort Sea, Alaska in summers 2017-2019.\n",
    "\n",
    "1. Calculate the average lengths of fish sampled at each location in the years 2017, 2018 and 2019.\n",
    "2. Can you statistically observe any differences in lengths between the years 2018 and 2019?\n",
    "3. Calculate the average concentration of C13 and N15 for the samples collected at each location in the years 2017, 2018 and 2019.\n",
    "4. Can you statistically observe any differences in C13 and N15 concentrations between the years 2018 and 2019?\n",
    "5. Can we do the same comparisons for the year 2017 against 2018 or 2019? Why doesn't this work? What should we do to make these comparisons to work?"
   ]
  },
  {
   "cell_type": "code",
   "execution_count": null,
   "id": "d35ef759-81c0-4f41-8abb-af5115dd3f0c",
   "metadata": {},
   "outputs": [],
   "source": []
  }
 ],
 "metadata": {
  "kernelspec": {
   "display_name": "Python 3",
   "language": "python",
   "name": "python3"
  },
  "language_info": {
   "codemirror_mode": {
    "name": "ipython",
    "version": 3
   },
   "file_extension": ".py",
   "mimetype": "text/x-python",
   "name": "python",
   "nbconvert_exporter": "python",
   "pygments_lexer": "ipython3",
   "version": "3.10.6"
  }
 },
 "nbformat": 4,
 "nbformat_minor": 5
}
