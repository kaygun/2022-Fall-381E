{
 "cells": [
  {
   "cell_type": "markdown",
   "metadata": {},
   "source": [
    "# A Crash Course in Python\n",
    "\n",
    "## What type of language is python?\n",
    "\n",
    "[Python](python.org) is an interpreted high level dynamically typed garbage-collected language. This means, inlike java or C, you don't need to compile python code.  \n",
    "\n",
    "* *Interpreted*: You interact with the language via a [REPL](https://en.wikipedia.org/wiki/Read%E2%80%93eval%E2%80%93print_loop).\n",
    "* *High level*: Functions themselves are objects that can be passed around.\n",
    "* *Dynamically typed*: variables don't have types, values do!\n",
    "* *Garbage collected*: if you create an object, and you don't need it anymore, it is automatically erased.\n",
    "\n",
    "## Simple values\n",
    "\n",
    "* integers\n",
    "* floating point numbers\n",
    "* characters\n",
    "* strings"
   ]
  },
  {
   "cell_type": "code",
   "execution_count": 69,
   "metadata": {},
   "outputs": [
    {
     "data": {
      "text/plain": [
       "12"
      ]
     },
     "execution_count": 69,
     "metadata": {},
     "output_type": "execute_result"
    }
   ],
   "source": [
    "12"
   ]
  },
  {
   "cell_type": "code",
   "execution_count": 73,
   "metadata": {},
   "outputs": [
    {
     "data": {
      "text/plain": [
       "12.0"
      ]
     },
     "execution_count": 73,
     "metadata": {},
     "output_type": "execute_result"
    }
   ],
   "source": [
    "12.0"
   ]
  },
  {
   "cell_type": "code",
   "execution_count": 72,
   "metadata": {},
   "outputs": [
    {
     "data": {
      "text/plain": [
       "\"Ceci n'est pas une pipe.\""
      ]
     },
     "execution_count": 72,
     "metadata": {},
     "output_type": "execute_result"
    }
   ],
   "source": [
    "\"Ceci n'est pas une pipe.\""
   ]
  },
  {
   "cell_type": "markdown",
   "metadata": {},
   "source": [
    "### Do not confuse the finger pointing at the moon with the moon.\n",
    "\n",
    "> As the ignorant grasp the finger-tip and not the moon, so those who cling to the letter, know not my truth.\n",
    "> *Lankavatara Sutra*\n",
    "\n",
    "![Magritte: Ceci n'est pas une pipe](./images/MagrittePipe.jpg)\n",
    "\n",
    "Image: [*La Trahison des images* by Rene Magritte](https://en.wikipedia.org/wiki/The_Treachery_of_Images)"
   ]
  },
  {
   "cell_type": "code",
   "execution_count": 4,
   "metadata": {},
   "outputs": [
    {
     "data": {
      "text/plain": [
       "\"Ceci n'est pas une pipe\""
      ]
     },
     "execution_count": 4,
     "metadata": {},
     "output_type": "execute_result"
    }
   ],
   "source": [
    "a = \"Ceci n'est pas une pipe\"\n",
    "a"
   ]
  },
  {
   "cell_type": "markdown",
   "metadata": {},
   "source": [
    "Variables are temporal *pointers* that point to values kept in memory, and nothing else. The relationships between variables are static, say unlike excel."
   ]
  },
  {
   "cell_type": "code",
   "execution_count": 74,
   "metadata": {},
   "outputs": [
    {
     "data": {
      "text/plain": [
       "13"
      ]
     },
     "execution_count": 74,
     "metadata": {},
     "output_type": "execute_result"
    }
   ],
   "source": [
    "a = 12\n",
    "b = a+1\n",
    "a = 20\n",
    "b"
   ]
  },
  {
   "cell_type": "code",
   "execution_count": 75,
   "metadata": {},
   "outputs": [
    {
     "data": {
      "text/plain": [
       "3"
      ]
     },
     "execution_count": 75,
     "metadata": {},
     "output_type": "execute_result"
    }
   ],
   "source": [
    "a = 0\n",
    "a = a + 1\n",
    "a = a + 2\n",
    "a"
   ]
  },
  {
   "cell_type": "code",
   "execution_count": 77,
   "metadata": {},
   "outputs": [
    {
     "data": {
      "text/plain": [
       "True"
      ]
     },
     "execution_count": 77,
     "metadata": {},
     "output_type": "execute_result"
    }
   ],
   "source": [
    "b = 3\n",
    "a == b"
   ]
  },
  {
   "cell_type": "markdown",
   "metadata": {},
   "source": [
    "## Container types\n",
    "\n",
    "* arrays\n",
    "* lists\n",
    "* sets\n",
    "* maps (dictionaries in python parlance)"
   ]
  },
  {
   "cell_type": "code",
   "execution_count": 78,
   "metadata": {},
   "outputs": [
    {
     "data": {
      "text/plain": [
       "1"
      ]
     },
     "execution_count": 78,
     "metadata": {},
     "output_type": "execute_result"
    }
   ],
   "source": [
    "xs = [1,2,4,8,16, 'a', 12.0]\n",
    "xs[0]"
   ]
  },
  {
   "cell_type": "code",
   "execution_count": 9,
   "metadata": {},
   "outputs": [
    {
     "data": {
      "text/plain": [
       "(1, 2, 4, 8, 16, 'a')"
      ]
     },
     "execution_count": 9,
     "metadata": {},
     "output_type": "execute_result"
    }
   ],
   "source": [
    "(1,2,4,8,16,'a')"
   ]
  },
  {
   "cell_type": "code",
   "execution_count": 10,
   "metadata": {
    "scrolled": true
   },
   "outputs": [
    {
     "data": {
      "text/plain": [
       "{1, 2, 4, 8, 16}"
      ]
     },
     "execution_count": 10,
     "metadata": {},
     "output_type": "execute_result"
    }
   ],
   "source": [
    "{1,2,4,8,16}"
   ]
  },
  {
   "cell_type": "code",
   "execution_count": 11,
   "metadata": {},
   "outputs": [
    {
     "data": {
      "text/plain": [
       "{'a': 1, 'b': 2, 'c': 4}"
      ]
     },
     "execution_count": 11,
     "metadata": {},
     "output_type": "execute_result"
    }
   ],
   "source": [
    "{'a': 1, 'b': 2, 'c': 4}"
   ]
  },
  {
   "cell_type": "code",
   "execution_count": 12,
   "metadata": {},
   "outputs": [
    {
     "data": {
      "text/plain": [
       "1"
      ]
     },
     "execution_count": 12,
     "metadata": {},
     "output_type": "execute_result"
    }
   ],
   "source": [
    "a = {'a': 1, 'b': 2, 'c': 4}\n",
    "a['a']"
   ]
  },
  {
   "cell_type": "markdown",
   "metadata": {},
   "source": [
    "## Things you can do with container types\n"
   ]
  },
  {
   "cell_type": "code",
   "execution_count": 87,
   "metadata": {},
   "outputs": [],
   "source": [
    "xs = [1,2,3]\n",
    "ys = [4,5,6]\n",
    "xs = [1,1,2,2,2,3,3,3,3,4,4,4,4,4]"
   ]
  },
  {
   "cell_type": "code",
   "execution_count": 89,
   "metadata": {},
   "outputs": [
    {
     "data": {
      "text/plain": [
       "3"
      ]
     },
     "execution_count": 89,
     "metadata": {},
     "output_type": "execute_result"
    }
   ],
   "source": [
    "xs."
   ]
  },
  {
   "cell_type": "code",
   "execution_count": 90,
   "metadata": {},
   "outputs": [
    {
     "data": {
      "text/plain": [
       "[1, 1, 2, 2, 2, 3, 3, 3, 3, 4, 4, 4, 4, 4, 4, 5, 6]"
      ]
     },
     "execution_count": 90,
     "metadata": {},
     "output_type": "execute_result"
    }
   ],
   "source": [
    "xs.extend(ys)\n",
    "xs"
   ]
  },
  {
   "cell_type": "code",
   "execution_count": 91,
   "metadata": {},
   "outputs": [
    {
     "data": {
      "text/plain": [
       "[1, 1, 2, 2, 2, 3, 3, 3, 3, 4, 4, 4, 4, 4, 4, 5, 6, [4, 5, 6]]"
      ]
     },
     "execution_count": 91,
     "metadata": {},
     "output_type": "execute_result"
    }
   ],
   "source": [
    "xs.append(ys)\n",
    "xs"
   ]
  },
  {
   "cell_type": "markdown",
   "metadata": {},
   "source": [
    "## Control structures\n",
    "\n",
    "* `if` statements, `while` and `for` loops:"
   ]
  },
  {
   "cell_type": "code",
   "execution_count": 93,
   "metadata": {},
   "outputs": [
    {
     "name": "stdout",
     "output_type": "stream",
     "text": [
      "really\n",
      "even\n"
     ]
    }
   ],
   "source": [
    "a = 0\n",
    "\n",
    "if a % 2 == 0:\n",
    "    print(\"really\")\n",
    "    print(\"even\")\n",
    "else: \n",
    "    print(\"odd\")"
   ]
  },
  {
   "cell_type": "code",
   "execution_count": 94,
   "metadata": {},
   "outputs": [
    {
     "data": {
      "text/plain": [
       "[1, 1, 2, 3, 5, 8, 13, 21, 34, 55, 89, 144]"
      ]
     },
     "execution_count": 94,
     "metadata": {},
     "output_type": "execute_result"
    }
   ],
   "source": [
    "a,b = 1,1\n",
    "i = 0\n",
    "res = [1,1]\n",
    "while i < 10:\n",
    "    i = i+1\n",
    "    a,b = b,a+b\n",
    "    res.append(b)\n",
    "res"
   ]
  },
  {
   "cell_type": "code",
   "execution_count": 98,
   "metadata": {},
   "outputs": [
    {
     "data": {
      "text/plain": [
       "[1, 1, 2, 3, 5, 8, 13, 21, 34, 55, 89, 144, 233, 377]"
      ]
     },
     "execution_count": 98,
     "metadata": {},
     "output_type": "execute_result"
    }
   ],
   "source": [
    "res = [1,1]\n",
    "for i in range(12):\n",
    "    res.append(res[i] + res[i+1])\n",
    "res"
   ]
  },
  {
   "cell_type": "markdown",
   "metadata": {},
   "source": [
    "## Comprehensions\n",
    "\n",
    "Comprehensions is a useful idiom that makes a lot of things easy:\n",
    "\n",
    "Say you have an array,"
   ]
  },
  {
   "cell_type": "code",
   "execution_count": 99,
   "metadata": {},
   "outputs": [
    {
     "data": {
      "text/plain": [
       "[-1, 0, 2, -1, 2, 0, -2, 3, 4, 0, 0, 2, 3, 4]"
      ]
     },
     "execution_count": 99,
     "metadata": {},
     "output_type": "execute_result"
    }
   ],
   "source": [
    "a = [-1,0,2,-1,2,0,-2,3,4,0,0,2,3,4]\n",
    "a"
   ]
  },
  {
   "cell_type": "code",
   "execution_count": 102,
   "metadata": {},
   "outputs": [
    {
     "data": {
      "text/plain": [
       "[4, 4, 9, 16, 4, 9, 16]"
      ]
     },
     "execution_count": 102,
     "metadata": {},
     "output_type": "execute_result"
    }
   ],
   "source": [
    "res = []\n",
    "for x in a:\n",
    "    if x>0:\n",
    "        res.append(x**2)\n",
    "res"
   ]
  },
  {
   "cell_type": "code",
   "execution_count": 104,
   "metadata": {},
   "outputs": [
    {
     "data": {
      "text/plain": [
       "3"
      ]
     },
     "execution_count": 104,
     "metadata": {},
     "output_type": "execute_result"
    }
   ],
   "source": [
    "len(set(res))"
   ]
  },
  {
   "cell_type": "markdown",
   "metadata": {},
   "source": [
    "but you need to apply a specific function to it, say taking squares. In python we use comprehensions:"
   ]
  },
  {
   "cell_type": "code",
   "execution_count": 106,
   "metadata": {},
   "outputs": [
    {
     "data": {
      "text/plain": [
       "[4, 4, 9, 16, 4, 9, 16]"
      ]
     },
     "execution_count": 106,
     "metadata": {},
     "output_type": "execute_result"
    }
   ],
   "source": [
    "[ x**2 for x in a if x>0]"
   ]
  },
  {
   "cell_type": "code",
   "execution_count": 24,
   "metadata": {},
   "outputs": [
    {
     "data": {
      "text/plain": [
       "{4, 9, 16}"
      ]
     },
     "execution_count": 24,
     "metadata": {},
     "output_type": "execute_result"
    }
   ],
   "source": [
    "{ x**2 for x in a if x > 0 }"
   ]
  },
  {
   "cell_type": "code",
   "execution_count": 110,
   "metadata": {},
   "outputs": [
    {
     "data": {
      "text/plain": [
       "{'the square of -1 is': 1,\n",
       " 'the square of 0 is': 0,\n",
       " 'the square of 2 is': 4,\n",
       " 'the square of -2 is': 4,\n",
       " 'the square of 3 is': 9,\n",
       " 'the square of 4 is': 16}"
      ]
     },
     "execution_count": 110,
     "metadata": {},
     "output_type": "execute_result"
    }
   ],
   "source": [
    "ms = { f'the square of {i} is': i**2 for i in a }\n",
    "ms"
   ]
  },
  {
   "cell_type": "code",
   "execution_count": 114,
   "metadata": {},
   "outputs": [
    {
     "ename": "KeyError",
     "evalue": "'the square of 4'",
     "output_type": "error",
     "traceback": [
      "\u001b[0;31m---------------------------------------------------------------------------\u001b[0m",
      "\u001b[0;31mKeyError\u001b[0m                                  Traceback (most recent call last)",
      "Cell \u001b[0;32mIn [114], line 1\u001b[0m\n\u001b[0;32m----> 1\u001b[0m \u001b[43mms\u001b[49m\u001b[43m[\u001b[49m\u001b[38;5;124;43m'\u001b[39;49m\u001b[38;5;124;43mthe square of 4\u001b[39;49m\u001b[38;5;124;43m'\u001b[39;49m\u001b[43m]\u001b[49m\n",
      "\u001b[0;31mKeyError\u001b[0m: 'the square of 4'"
     ]
    }
   ],
   "source": [
    "ms['the square of 4']"
   ]
  },
  {
   "cell_type": "markdown",
   "metadata": {},
   "source": [
    "## Functions\n",
    "\n",
    "A function is an object that takes inputs and produces an output.\n",
    "\n"
   ]
  },
  {
   "cell_type": "code",
   "execution_count": 118,
   "metadata": {},
   "outputs": [],
   "source": [
    "def fibonacci(n):\n",
    "    res = [1,1]\n",
    "    for i in range(n-2):\n",
    "        res.append( res[i] + res[i+1] )\n",
    "    return(res)"
   ]
  },
  {
   "cell_type": "code",
   "execution_count": 119,
   "metadata": {
    "tags": []
   },
   "outputs": [
    {
     "data": {
      "text/plain": [
       "[1, 1]"
      ]
     },
     "execution_count": 119,
     "metadata": {},
     "output_type": "execute_result"
    }
   ],
   "source": [
    "fibonacci(1)"
   ]
  },
  {
   "cell_type": "markdown",
   "metadata": {},
   "source": [
    "## What are we dealing with?\n",
    "\n",
    "![Interaction graph](./images/interaction.png)\n",
    "\n",
    "\n",
    "## Libraries\n",
    "\n",
    "In this class we are going to use the following libraries **a lot**:\n",
    "\n",
    "* [`numpy`](http://www.numpy.org/)\n",
    "* [`pandas`](https://pandas.pydata.org/)\n",
    "* [`scipy`](https://docs.scipy.org/doc/scipy/reference/index.html)\n",
    "* [`scikit-learn`](http://scikit-learn.org/stable/)\n",
    "* [`matplotlib`](https://matplotlib.org/)\n",
    "\n",
    "We import libraries as follows:"
   ]
  },
  {
   "cell_type": "code",
   "execution_count": 121,
   "metadata": {},
   "outputs": [],
   "source": [
    "import numpy as np\n",
    "import pandas as pd\n",
    "from matplotlib import pyplot as plt\n",
    "from scipy import stats"
   ]
  },
  {
   "cell_type": "code",
   "execution_count": 122,
   "metadata": {},
   "outputs": [
    {
     "data": {
      "text/plain": [
       "(2, 5)"
      ]
     },
     "execution_count": 122,
     "metadata": {},
     "output_type": "execute_result"
    }
   ],
   "source": [
    "a = np.matrix(np.random.rand(2,4))\n",
    "b = np.matrix(np.random.rand(4,5))\n",
    "c = a*b\n",
    "c.shape"
   ]
  },
  {
   "cell_type": "code",
   "execution_count": 123,
   "metadata": {},
   "outputs": [
    {
     "data": {
      "text/plain": [
       "matrix([[0, 0, 0, 0, 0]])"
      ]
     },
     "execution_count": 123,
     "metadata": {},
     "output_type": "execute_result"
    }
   ],
   "source": [
    "c.argmin(axis=0)"
   ]
  },
  {
   "cell_type": "code",
   "execution_count": 124,
   "metadata": {},
   "outputs": [
    {
     "data": {
      "image/png": "[encoded data removed]",
      "text/plain": [
       "<Figure size 640x480 with 1 Axes>"
      ]
     },
     "metadata": {},
     "output_type": "display_data"
    }
   ],
   "source": [
    "plt.hist(stats.norm.rvs(size=1000),bins=10)\n",
    "plt.show()"
   ]
  },
  {
   "cell_type": "code",
   "execution_count": 125,
   "metadata": {},
   "outputs": [
    {
     "data": {
      "image/png": "[encoded data removed]",
      "text/plain": [
       "<Figure size 640x480 with 1 Axes>"
      ]
     },
     "metadata": {},
     "output_type": "display_data"
    }
   ],
   "source": [
    "plt.hist(stats.uniform.rvs(size=1000),bins=10)\n",
    "plt.show()"
   ]
  },
  {
   "cell_type": "markdown",
   "metadata": {},
   "source": [
    "## How can we get help on a library function?\n",
    "\n"
   ]
  },
  {
   "cell_type": "code",
   "execution_count": 126,
   "metadata": {
    "scrolled": true
   },
   "outputs": [
    {
     "name": "stdout",
     "output_type": "stream",
     "text": [
      "Help on norm_gen in module scipy.stats._continuous_distns:\n",
      "\n",
      "<scipy.stats._continuous_distns.norm_gen object>\n",
      "    A normal continuous random variable.\n",
      "    \n",
      "    The location (``loc``) keyword specifies the mean.\n",
      "    The scale (``scale``) keyword specifies the standard deviation.\n",
      "    \n",
      "    As an instance of the `rv_continuous` class, `norm` object inherits from it\n",
      "    a collection of generic methods (see below for the full list),\n",
      "    and completes them with details specific for this particular distribution.\n",
      "    \n",
      "    Methods\n",
      "    -------\n",
      "    rvs(loc=0, scale=1, size=1, random_state=None)\n",
      "        Random variates.\n",
      "    pdf(x, loc=0, scale=1)\n",
      "        Probability density function.\n",
      "    logpdf(x, loc=0, scale=1)\n",
      "        Log of the probability density function.\n",
      "    cdf(x, loc=0, scale=1)\n",
      "        Cumulative distribution function.\n",
      "    logcdf(x, loc=0, scale=1)\n",
      "        Log of the cumulative distribution function.\n",
      "    sf(x, loc=0, scale=1)\n",
      "        Survival function  (also defined as ``1 - cdf``, but `sf` is sometimes more accurate).\n",
      "    logsf(x, loc=0, scale=1)\n",
      "        Log of the survival function.\n",
      "    ppf(q, loc=0, scale=1)\n",
      "        Percent point function (inverse of ``cdf`` --- percentiles).\n",
      "    isf(q, loc=0, scale=1)\n",
      "        Inverse survival function (inverse of ``sf``).\n",
      "    moment(n, loc=0, scale=1)\n",
      "        Non-central moment of order n\n",
      "    stats(loc=0, scale=1, moments='mv')\n",
      "        Mean('m'), variance('v'), skew('s'), and/or kurtosis('k').\n",
      "    entropy(loc=0, scale=1)\n",
      "        (Differential) entropy of the RV.\n",
      "    fit(data)\n",
      "        Parameter estimates for generic data.\n",
      "        See `scipy.stats.rv_continuous.fit <https://docs.scipy.org/doc/scipy/reference/generated/scipy.stats.rv_continuous.fit.html#scipy.stats.rv_continuous.fit>`__ for detailed documentation of the\n",
      "        keyword arguments.\n",
      "    expect(func, args=(), loc=0, scale=1, lb=None, ub=None, conditional=False, **kwds)\n",
      "        Expected value of a function (of one argument) with respect to the distribution.\n",
      "    median(loc=0, scale=1)\n",
      "        Median of the distribution.\n",
      "    mean(loc=0, scale=1)\n",
      "        Mean of the distribution.\n",
      "    var(loc=0, scale=1)\n",
      "        Variance of the distribution.\n",
      "    std(loc=0, scale=1)\n",
      "        Standard deviation of the distribution.\n",
      "    interval(alpha, loc=0, scale=1)\n",
      "        Endpoints of the range that contains fraction alpha [0, 1] of the\n",
      "        distribution\n",
      "    \n",
      "    Notes\n",
      "    -----\n",
      "    The probability density function for `norm` is:\n",
      "    \n",
      "    .. math::\n",
      "    \n",
      "        f(x) = \\frac{\\exp(-x^2/2)}{\\sqrt{2\\pi}}\n",
      "    \n",
      "    for a real number :math:`x`.\n",
      "    \n",
      "    The probability density above is defined in the \"standardized\" form. To shift\n",
      "    and/or scale the distribution use the ``loc`` and ``scale`` parameters.\n",
      "    Specifically, ``norm.pdf(x, loc, scale)`` is identically\n",
      "    equivalent to ``norm.pdf(y) / scale`` with\n",
      "    ``y = (x - loc) / scale``. Note that shifting the location of a distribution\n",
      "    does not make it a \"noncentral\" distribution; noncentral generalizations of\n",
      "    some distributions are available in separate classes.\n",
      "    \n",
      "    Examples\n",
      "    --------\n",
      "    >>> from scipy.stats import norm\n",
      "    >>> import matplotlib.pyplot as plt\n",
      "    >>> fig, ax = plt.subplots(1, 1)\n",
      "    \n",
      "    Calculate the first four moments:\n",
      "    \n",
      "    \n",
      "    >>> mean, var, skew, kurt = norm.stats(moments='mvsk')\n",
      "    \n",
      "    Display the probability density function (``pdf``):\n",
      "    \n",
      "    >>> x = np.linspace(norm.ppf(0.01),\n",
      "    ...                 norm.ppf(0.99), 100)\n",
      "    >>> ax.plot(x, norm.pdf(x),\n",
      "    ...        'r-', lw=5, alpha=0.6, label='norm pdf')\n",
      "    \n",
      "    Alternatively, the distribution object can be called (as a function)\n",
      "    to fix the shape, location and scale parameters. This returns a \"frozen\"\n",
      "    RV object holding the given parameters fixed.\n",
      "    \n",
      "    Freeze the distribution and display the frozen ``pdf``:\n",
      "    \n",
      "    >>> rv = norm()\n",
      "    >>> ax.plot(x, rv.pdf(x), 'k-', lw=2, label='frozen pdf')\n",
      "    \n",
      "    Check accuracy of ``cdf`` and ``ppf``:\n",
      "    \n",
      "    >>> vals = norm.ppf([0.001, 0.5, 0.999])\n",
      "    >>> np.allclose([0.001, 0.5, 0.999], norm.cdf(vals))\n",
      "    True\n",
      "    \n",
      "    Generate random numbers:\n",
      "    \n",
      "    >>> r = norm.rvs(size=1000)\n",
      "    \n",
      "    And compare the histogram:\n",
      "    \n",
      "    >>> ax.hist(r, density=True, histtype='stepfilled', alpha=0.2)\n",
      "    >>> ax.legend(loc='best', frameon=False)\n",
      "    >>> plt.show()\n",
      "\n"
     ]
    }
   ],
   "source": [
    "help(stats.norm)"
   ]
  },
  {
   "cell_type": "markdown",
   "metadata": {},
   "source": [
    "# A simple example \n",
    "\n",
    "In the first example we are going to write, we are going to approximate $\\pi$ using random numbers: the probability that a uniformly randomly chosen point in the square determined by $(0,0)$ and $(1,1)$ that lies in the quarter of a  disk $x^2+y^2\\leq 1$ is $\\frac{\\pi}{4}$.\n",
    "\n"
   ]
  },
  {
   "cell_type": "code",
   "execution_count": 154,
   "metadata": {},
   "outputs": [
    {
     "data": {
      "text/plain": [
       "3.149"
      ]
     },
     "execution_count": 154,
     "metadata": {},
     "output_type": "execute_result"
    }
   ],
   "source": [
    "count = 0\n",
    "N = 10**5\n",
    "for i in range(N):\n",
    "    x = np.random.rand()\n",
    "    y = np.random.rand()\n",
    "    if(x**2 + y**2 <= 1):\n",
    "        count = count + 1\n",
    "count*4/N"
   ]
  },
  {
   "cell_type": "code",
   "execution_count": 173,
   "metadata": {},
   "outputs": [
    {
     "data": {
      "text/plain": [
       "3.14028"
      ]
     },
     "execution_count": 173,
     "metadata": {},
     "output_type": "execute_result"
    }
   ],
   "source": [
    "count = 0\n",
    "N = 10**5\n",
    "points = np.random.rand(N,2)\n",
    "for i in range(N):\n",
    "    if( points[i,0]**2 + points[i,1]**2 <= 1):\n",
    "        count = count + 1\n",
    "count*4/N"
   ]
  },
  {
   "cell_type": "code",
   "execution_count": 175,
   "metadata": {},
   "outputs": [
    {
     "data": {
      "text/plain": [
       "3.12"
      ]
     },
     "execution_count": 175,
     "metadata": {},
     "output_type": "execute_result"
    }
   ],
   "source": [
    "def circle(x,y): return(x**2 + y**2 <= 1)\n",
    "\n",
    "N = 1000\n",
    "points = np.random.rand(N,2)\n",
    "xs = [0 for i in range(N) if circle(points[i,0], points[i,1])]\n",
    "count = len(xs)\n",
    "count*4/N"
   ]
  },
  {
   "cell_type": "code",
   "execution_count": 176,
   "metadata": {},
   "outputs": [],
   "source": [
    "def area(N, fn):\n",
    "    points = np.random.rand(N,2)\n",
    "    count = len([1 for i in range(N) if fn(points[i,0], points[i,1])])\n",
    "    return(count/N)"
   ]
  },
  {
   "cell_type": "code",
   "execution_count": 199,
   "metadata": {},
   "outputs": [
    {
     "data": {
      "text/plain": [
       "3.1563333333333334"
      ]
     },
     "execution_count": 199,
     "metadata": {},
     "output_type": "execute_result"
    }
   ],
   "source": [
    "4*area(12000,circle)"
   ]
  },
  {
   "cell_type": "code",
   "execution_count": 202,
   "metadata": {},
   "outputs": [],
   "source": [
    "def triangle(x,y): return x+y<=1"
   ]
  },
  {
   "cell_type": "code",
   "execution_count": 227,
   "metadata": {},
   "outputs": [
    {
     "data": {
      "text/plain": [
       "0.5088"
      ]
     },
     "execution_count": 227,
     "metadata": {},
     "output_type": "execute_result"
    }
   ],
   "source": [
    "area(10000,triangle)"
   ]
  },
  {
   "cell_type": "code",
   "execution_count": 236,
   "metadata": {},
   "outputs": [
    {
     "data": {
      "text/plain": [
       "0.5075"
      ]
     },
     "execution_count": 236,
     "metadata": {},
     "output_type": "execute_result"
    }
   ],
   "source": [
    "def line(x,y): return(y<=x)\n",
    "\n",
    "area(4000,line)"
   ]
  },
  {
   "cell_type": "code",
   "execution_count": 237,
   "metadata": {},
   "outputs": [
    {
     "data": {
      "text/plain": [
       "0.5004"
      ]
     },
     "execution_count": 237,
     "metadata": {},
     "output_type": "execute_result"
    }
   ],
   "source": [
    "area(5000, lambda x,y: y<=x)"
   ]
  },
  {
   "cell_type": "code",
   "execution_count": 256,
   "metadata": {},
   "outputs": [
    {
     "data": {
      "text/plain": [
       "0.324"
      ]
     },
     "execution_count": 256,
     "metadata": {},
     "output_type": "execute_result"
    }
   ],
   "source": [
    "area(5000, lambda x,y: y<=x**2)"
   ]
  },
  {
   "cell_type": "code",
   "execution_count": 43,
   "metadata": {},
   "outputs": [
    {
     "data": {
      "text/plain": [
       "3.1376"
      ]
     },
     "execution_count": 43,
     "metadata": {},
     "output_type": "execute_result"
    }
   ],
   "source": [
    "area(5000, lambda x,y: x**2+y**2<=1)*4"
   ]
  },
  {
   "cell_type": "markdown",
   "metadata": {},
   "source": [
    "# Another example (exchange rates)\n",
    "\n"
   ]
  },
  {
   "cell_type": "code",
   "execution_count": 257,
   "metadata": {},
   "outputs": [],
   "source": [
    "from urllib.request import urlopen\n",
    "from xmltodict import parse"
   ]
  },
  {
   "cell_type": "code",
   "execution_count": 260,
   "metadata": {},
   "outputs": [],
   "source": [
    "with urlopen(\"http://www.ecb.europa.eu/stats/eurofxref/eurofxref-daily.xml\") as url:\n",
    "    raw = parse(url.read().decode('utf8'))"
   ]
  },
  {
   "cell_type": "code",
   "execution_count": 269,
   "metadata": {},
   "outputs": [
    {
     "data": {
      "text/plain": [
       "{'Cube': {'@time': '2022-09-29',\n",
       "  'Cube': [{'@currency': 'USD', '@rate': '0.9706'},\n",
       "   {'@currency': 'JPY', '@rate': '140.46'},\n",
       "   {'@currency': 'BGN', '@rate': '1.9558'},\n",
       "   {'@currency': 'CZK', '@rate': '24.687'},\n",
       "   {'@currency': 'DKK', '@rate': '7.4365'},\n",
       "   {'@currency': 'GBP', '@rate': '0.89485'},\n",
       "   {'@currency': 'HUF', '@rate': '421.93'},\n",
       "   {'@currency': 'PLN', '@rate': '4.8570'},\n",
       "   {'@currency': 'RON', '@rate': '4.9481'},\n",
       "   {'@currency': 'SEK', '@rate': '10.9580'},\n",
       "   {'@currency': 'CHF', '@rate': '0.9538'},\n",
       "   {'@currency': 'ISK', '@rate': '140.10'},\n",
       "   {'@currency': 'NOK', '@rate': '10.4518'},\n",
       "   {'@currency': 'HRK', '@rate': '7.5280'},\n",
       "   {'@currency': 'TRY', '@rate': '18.0000'},\n",
       "   {'@currency': 'AUD', '@rate': '1.4982'},\n",
       "   {'@currency': 'BRL', '@rate': '5.2521'},\n",
       "   {'@currency': 'CAD', '@rate': '1.3294'},\n",
       "   {'@currency': 'CNY', '@rate': '6.9223'},\n",
       "   {'@currency': 'HKD', '@rate': '7.6192'},\n",
       "   {'@currency': 'IDR', '@rate': '14735.97'},\n",
       "   {'@currency': 'ILS', '@rate': '3.4422'},\n",
       "   {'@currency': 'INR', '@rate': '79.3140'},\n",
       "   {'@currency': 'KRW', '@rate': '1388.34'},\n",
       "   {'@currency': 'MXN', '@rate': '19.5779'},\n",
       "   {'@currency': 'MYR', '@rate': '4.4992'},\n",
       "   {'@currency': 'NZD', '@rate': '1.7040'},\n",
       "   {'@currency': 'PHP', '@rate': '56.860'},\n",
       "   {'@currency': 'SGD', '@rate': '1.3961'},\n",
       "   {'@currency': 'THB', '@rate': '36.946'},\n",
       "   {'@currency': 'ZAR', '@rate': '17.4466'}]}}"
      ]
     },
     "execution_count": 269,
     "metadata": {},
     "output_type": "execute_result"
    }
   ],
   "source": [
    "raw['gesmes:Envelope']['Cube']"
   ]
  },
  {
   "cell_type": "code",
   "execution_count": 46,
   "metadata": {},
   "outputs": [
    {
     "data": {
      "text/plain": [
       "[{'@currency': 'USD', '@rate': '0.9646'},\n",
       " {'@currency': 'JPY', '@rate': '139.07'},\n",
       " {'@currency': 'BGN', '@rate': '1.9558'},\n",
       " {'@currency': 'CZK', '@rate': '24.640'},\n",
       " {'@currency': 'DKK', '@rate': '7.4365'},\n",
       " {'@currency': 'GBP', '@rate': '0.89404'},\n",
       " {'@currency': 'HUF', '@rate': '408.83'},\n",
       " {'@currency': 'PLN', '@rate': '4.7608'},\n",
       " {'@currency': 'RON', '@rate': '4.9418'},\n",
       " {'@currency': 'SEK', '@rate': '10.9275'},\n",
       " {'@currency': 'CHF', '@rate': '0.9555'},\n",
       " {'@currency': 'ISK', '@rate': '138.90'},\n",
       " {'@currency': 'NOK', '@rate': '10.3585'},\n",
       " {'@currency': 'HRK', '@rate': '7.5278'},\n",
       " {'@currency': 'TRY', '@rate': '17.8001'},\n",
       " {'@currency': 'AUD', '@rate': '1.4858'},\n",
       " {'@currency': 'BRL', '@rate': '5.1504'},\n",
       " {'@currency': 'CAD', '@rate': '1.3195'},\n",
       " {'@currency': 'CNY', '@rate': '6.9075'},\n",
       " {'@currency': 'HKD', '@rate': '7.5720'},\n",
       " {'@currency': 'IDR', '@rate': '14620.74'},\n",
       " {'@currency': 'ILS', '@rate': '3.4069'},\n",
       " {'@currency': 'INR', '@rate': '78.7040'},\n",
       " {'@currency': 'KRW', '@rate': '1379.40'},\n",
       " {'@currency': 'MXN', '@rate': '19.6066'},\n",
       " {'@currency': 'MYR', '@rate': '4.4401'},\n",
       " {'@currency': 'NZD', '@rate': '1.6886'},\n",
       " {'@currency': 'PHP', '@rate': '56.908'},\n",
       " {'@currency': 'SGD', '@rate': '1.3842'},\n",
       " {'@currency': 'THB', '@rate': '36.496'},\n",
       " {'@currency': 'ZAR', '@rate': '17.4247'}]"
      ]
     },
     "execution_count": 46,
     "metadata": {},
     "output_type": "execute_result"
    }
   ],
   "source": [
    "raw['gesmes:Envelope']['Cube']['Cube']['Cube']"
   ]
  },
  {
   "cell_type": "code",
   "execution_count": 270,
   "metadata": {},
   "outputs": [
    {
     "data": {
      "text/plain": [
       "{'USD': 0.9706,\n",
       " 'JPY': 140.46,\n",
       " 'BGN': 1.9558,\n",
       " 'CZK': 24.687,\n",
       " 'DKK': 7.4365,\n",
       " 'GBP': 0.89485,\n",
       " 'HUF': 421.93,\n",
       " 'PLN': 4.857,\n",
       " 'RON': 4.9481,\n",
       " 'SEK': 10.958,\n",
       " 'CHF': 0.9538,\n",
       " 'ISK': 140.1,\n",
       " 'NOK': 10.4518,\n",
       " 'HRK': 7.528,\n",
       " 'TRY': 18.0,\n",
       " 'AUD': 1.4982,\n",
       " 'BRL': 5.2521,\n",
       " 'CAD': 1.3294,\n",
       " 'CNY': 6.9223,\n",
       " 'HKD': 7.6192,\n",
       " 'IDR': 14735.97,\n",
       " 'ILS': 3.4422,\n",
       " 'INR': 79.314,\n",
       " 'KRW': 1388.34,\n",
       " 'MXN': 19.5779,\n",
       " 'MYR': 4.4992,\n",
       " 'NZD': 1.704,\n",
       " 'PHP': 56.86,\n",
       " 'SGD': 1.3961,\n",
       " 'THB': 36.946,\n",
       " 'ZAR': 17.4466}"
      ]
     },
     "execution_count": 270,
     "metadata": {},
     "output_type": "execute_result"
    }
   ],
   "source": [
    "rates = {x['@currency']: float(x['@rate']) for x in raw['gesmes:Envelope']['Cube']['Cube']['Cube']}\n",
    "rates"
   ]
  },
  {
   "cell_type": "code",
   "execution_count": 272,
   "metadata": {},
   "outputs": [
    {
     "data": {
      "text/plain": [
       "18.0"
      ]
     },
     "execution_count": 272,
     "metadata": {},
     "output_type": "execute_result"
    }
   ],
   "source": [
    "rates['TRY']"
   ]
  },
  {
   "cell_type": "code",
   "execution_count": 273,
   "metadata": {},
   "outputs": [],
   "source": [
    "def getExchangeRates():\n",
    "    with urlopen(\"http://www.ecb.europa.eu/stats/eurofxref/eurofxref-daily.xml\") as conn:\n",
    "        raw = parse(conn.read().decode('utf8'))\n",
    "    rates = {x['@currency']: float(x['@rate']) for x in raw['gesmes:Envelope']['Cube']['Cube']['Cube']}\n",
    "    return(rates)"
   ]
  },
  {
   "cell_type": "code",
   "execution_count": 274,
   "metadata": {},
   "outputs": [
    {
     "data": {
      "text/plain": [
       "0.9706"
      ]
     },
     "execution_count": 274,
     "metadata": {},
     "output_type": "execute_result"
    }
   ],
   "source": [
    "rates = getExchangeRates()\n",
    "rates['USD']"
   ]
  },
  {
   "cell_type": "markdown",
   "metadata": {
    "jupyter": {
     "outputs_hidden": true
    },
    "tags": []
   },
   "source": [
    "with urlopen(\"https://sdw-wsrest.ecb.europa.eu/service/data/EXR/D.TRY.EUR.SP00.A\") as url:\n",
    "    raw = parse(url.read().decode('utf8'))\n",
    "raw"
   ]
  },
  {
   "cell_type": "code",
   "execution_count": 276,
   "metadata": {
    "scrolled": true
   },
   "outputs": [
    {
     "data": {
      "text/html": [
       "<div>\n",
       "<style scoped>\n",
       "    .dataframe tbody tr th:only-of-type {\n",
       "        vertical-align: middle;\n",
       "    }\n",
       "\n",
       "    .dataframe tbody tr th {\n",
       "        vertical-align: top;\n",
       "    }\n",
       "\n",
       "    .dataframe thead th {\n",
       "        text-align: right;\n",
       "    }\n",
       "</style>\n",
       "<table border=\"1\" class=\"dataframe\">\n",
       "  <thead>\n",
       "    <tr style=\"text-align: right;\">\n",
       "      <th></th>\n",
       "      <th>Date</th>\n",
       "      <th>Rate</th>\n",
       "    </tr>\n",
       "  </thead>\n",
       "  <tbody>\n",
       "    <tr>\n",
       "      <th>0</th>\n",
       "      <td>1999-01-04</td>\n",
       "      <td>1.8004</td>\n",
       "    </tr>\n",
       "    <tr>\n",
       "      <th>1</th>\n",
       "      <td>1999-01-05</td>\n",
       "      <td>1.7965</td>\n",
       "    </tr>\n",
       "    <tr>\n",
       "      <th>2</th>\n",
       "      <td>1999-01-06</td>\n",
       "      <td>1.7711</td>\n",
       "    </tr>\n",
       "    <tr>\n",
       "      <th>3</th>\n",
       "      <td>1999-01-07</td>\n",
       "      <td>1.7602</td>\n",
       "    </tr>\n",
       "    <tr>\n",
       "      <th>4</th>\n",
       "      <td>1999-01-08</td>\n",
       "      <td>1.7643</td>\n",
       "    </tr>\n",
       "    <tr>\n",
       "      <th>...</th>\n",
       "      <td>...</td>\n",
       "      <td>...</td>\n",
       "    </tr>\n",
       "    <tr>\n",
       "      <th>6139</th>\n",
       "      <td>2022-09-23</td>\n",
       "      <td>1.3177</td>\n",
       "    </tr>\n",
       "    <tr>\n",
       "      <th>6140</th>\n",
       "      <td>2022-09-26</td>\n",
       "      <td>1.3195</td>\n",
       "    </tr>\n",
       "    <tr>\n",
       "      <th>6141</th>\n",
       "      <td>2022-09-27</td>\n",
       "      <td>1.3196</td>\n",
       "    </tr>\n",
       "    <tr>\n",
       "      <th>6142</th>\n",
       "      <td>2022-09-28</td>\n",
       "      <td>1.3157</td>\n",
       "    </tr>\n",
       "    <tr>\n",
       "      <th>6143</th>\n",
       "      <td>2022-09-29</td>\n",
       "      <td>1.3294</td>\n",
       "    </tr>\n",
       "  </tbody>\n",
       "</table>\n",
       "<p>6144 rows × 2 columns</p>\n",
       "</div>"
      ],
      "text/plain": [
       "            Date    Rate\n",
       "0     1999-01-04  1.8004\n",
       "1     1999-01-05  1.7965\n",
       "2     1999-01-06  1.7711\n",
       "3     1999-01-07  1.7602\n",
       "4     1999-01-08  1.7643\n",
       "...          ...     ...\n",
       "6139  2022-09-23  1.3177\n",
       "6140  2022-09-26  1.3195\n",
       "6141  2022-09-27  1.3196\n",
       "6142  2022-09-28  1.3157\n",
       "6143  2022-09-29  1.3294\n",
       "\n",
       "[6144 rows x 2 columns]"
      ]
     },
     "execution_count": 276,
     "metadata": {},
     "output_type": "execute_result"
    }
   ],
   "source": [
    "def QueryECB(Cfrom, Cto):\n",
    "    with urlopen(f\"https://sdw-wsrest.ecb.europa.eu/service/data/EXR/D.{Cfrom}.{Cto}.SP00.A\") as url:\n",
    "        raw = parse(url.read().decode('utf8'))\n",
    "    data = raw['message:GenericData']['message:DataSet']['generic:Series']['generic:Obs']\n",
    "    dates = [x['generic:ObsDimension']['@value'] for x in data]\n",
    "    rates = [float(x['generic:ObsValue']['@value']) for x in data]\n",
    "    return pd.DataFrame({'Date': dates, 'Rate': rates})\n",
    "    \n",
    "CADEUR = QueryECB('CAD','EUR')\n",
    "CADEUR"
   ]
  },
  {
   "cell_type": "code",
   "execution_count": 277,
   "metadata": {},
   "outputs": [
    {
     "data": {
      "text/plain": [
       "<AxesSubplot:xlabel='Date'>"
      ]
     },
     "execution_count": 277,
     "metadata": {},
     "output_type": "execute_result"
    },
    {
     "data": {
      "image/png": "[encoded data removed]",
      "text/plain": [
       "<Figure size 1800x400 with 1 Axes>"
      ]
     },
     "metadata": {},
     "output_type": "display_data"
    }
   ],
   "source": [
    "CADEUR.plot(figsize=(18,4),x='Date',y='Rate')"
   ]
  },
  {
   "cell_type": "code",
   "execution_count": 279,
   "metadata": {},
   "outputs": [
    {
     "data": {
      "text/plain": [
       "<AxesSubplot:xlabel='Date'>"
      ]
     },
     "execution_count": 279,
     "metadata": {},
     "output_type": "execute_result"
    },
    {
     "data": {
      "image/png": "[encoded data removed]",
      "text/plain": [
       "<Figure size 1800x400 with 1 Axes>"
      ]
     },
     "metadata": {},
     "output_type": "display_data"
    }
   ],
   "source": [
    "TRYEUR = QueryECB('TRY','EUR')\n",
    "TRYEUR.plot(figsize=(18,4),x='Date',y='Rate')"
   ]
  },
  {
   "cell_type": "markdown",
   "metadata": {},
   "source": [
    "# Maps"
   ]
  },
  {
   "cell_type": "code",
   "execution_count": 25,
   "metadata": {},
   "outputs": [],
   "source": [
    "import pandas as pd\n",
    "import plotly.express as px\n",
    "import plotly.graph_objects as go\n",
    "import matplotlib.pyplot as plt\n",
    "from mpl_toolkits.basemap import Basemap"
   ]
  },
  {
   "cell_type": "code",
   "execution_count": 290,
   "metadata": {},
   "outputs": [
    {
     "data": {
      "text/html": [
       "<div>\n",
       "<style scoped>\n",
       "    .dataframe tbody tr th:only-of-type {\n",
       "        vertical-align: middle;\n",
       "    }\n",
       "\n",
       "    .dataframe tbody tr th {\n",
       "        vertical-align: top;\n",
       "    }\n",
       "\n",
       "    .dataframe thead th {\n",
       "        text-align: right;\n",
       "    }\n",
       "</style>\n",
       "<table border=\"1\" class=\"dataframe\">\n",
       "  <thead>\n",
       "    <tr style=\"text-align: right;\">\n",
       "      <th></th>\n",
       "      <th>Tarih</th>\n",
       "      <th>Sensor Adi</th>\n",
       "      <th>X Koordinati</th>\n",
       "      <th>Y Koordinati</th>\n",
       "      <th>Arac Sayisi</th>\n",
       "      <th>Unnamed: 5</th>\n",
       "    </tr>\n",
       "  </thead>\n",
       "  <tbody>\n",
       "    <tr>\n",
       "      <th>0</th>\n",
       "      <td>1012021.0</td>\n",
       "      <td>TEM Arıcılar</td>\n",
       "      <td>2.898199e+01</td>\n",
       "      <td>4.110021e+01</td>\n",
       "      <td>37325.0</td>\n",
       "      <td>NaN</td>\n",
       "    </tr>\n",
       "    <tr>\n",
       "      <th>1</th>\n",
       "      <td>1012021.0</td>\n",
       "      <td>TEM Mahmutbey Gişeler</td>\n",
       "      <td>2.880687e+15</td>\n",
       "      <td>4.106131e+15</td>\n",
       "      <td>24861.0</td>\n",
       "      <td>NaN</td>\n",
       "    </tr>\n",
       "    <tr>\n",
       "      <th>2</th>\n",
       "      <td>1012021.0</td>\n",
       "      <td>D100 Gülsuyu</td>\n",
       "      <td>2.915252e+01</td>\n",
       "      <td>4.092487e+01</td>\n",
       "      <td>19380.0</td>\n",
       "      <td>NaN</td>\n",
       "    </tr>\n",
       "    <tr>\n",
       "      <th>3</th>\n",
       "      <td>1012021.0</td>\n",
       "      <td>Kavacık Hisar Evleri</td>\n",
       "      <td>2.909468e+01</td>\n",
       "      <td>4.108283e+01</td>\n",
       "      <td>31554.0</td>\n",
       "      <td>NaN</td>\n",
       "    </tr>\n",
       "    <tr>\n",
       "      <th>4</th>\n",
       "      <td>1012021.0</td>\n",
       "      <td>Ümraniye Kavşağı</td>\n",
       "      <td>2.912109e+01</td>\n",
       "      <td>4.102894e+01</td>\n",
       "      <td>24416.0</td>\n",
       "      <td>NaN</td>\n",
       "    </tr>\n",
       "    <tr>\n",
       "      <th>...</th>\n",
       "      <td>...</td>\n",
       "      <td>...</td>\n",
       "      <td>...</td>\n",
       "      <td>...</td>\n",
       "      <td>...</td>\n",
       "      <td>...</td>\n",
       "    </tr>\n",
       "    <tr>\n",
       "      <th>97331</th>\n",
       "      <td>NaN</td>\n",
       "      <td>NaN</td>\n",
       "      <td>NaN</td>\n",
       "      <td>NaN</td>\n",
       "      <td>NaN</td>\n",
       "      <td>NaN</td>\n",
       "    </tr>\n",
       "    <tr>\n",
       "      <th>97332</th>\n",
       "      <td>NaN</td>\n",
       "      <td>NaN</td>\n",
       "      <td>NaN</td>\n",
       "      <td>NaN</td>\n",
       "      <td>NaN</td>\n",
       "      <td>NaN</td>\n",
       "    </tr>\n",
       "    <tr>\n",
       "      <th>97333</th>\n",
       "      <td>NaN</td>\n",
       "      <td>NaN</td>\n",
       "      <td>NaN</td>\n",
       "      <td>NaN</td>\n",
       "      <td>NaN</td>\n",
       "      <td>NaN</td>\n",
       "    </tr>\n",
       "    <tr>\n",
       "      <th>97334</th>\n",
       "      <td>NaN</td>\n",
       "      <td>NaN</td>\n",
       "      <td>NaN</td>\n",
       "      <td>NaN</td>\n",
       "      <td>NaN</td>\n",
       "      <td>NaN</td>\n",
       "    </tr>\n",
       "    <tr>\n",
       "      <th>97335</th>\n",
       "      <td>NaN</td>\n",
       "      <td>NaN</td>\n",
       "      <td>NaN</td>\n",
       "      <td>NaN</td>\n",
       "      <td>NaN</td>\n",
       "      <td>NaN</td>\n",
       "    </tr>\n",
       "  </tbody>\n",
       "</table>\n",
       "<p>97336 rows × 6 columns</p>\n",
       "</div>"
      ],
      "text/plain": [
       "           Tarih             Sensor Adi  X Koordinati  Y Koordinati  \\\n",
       "0      1012021.0           TEM Arıcılar  2.898199e+01  4.110021e+01   \n",
       "1      1012021.0  TEM Mahmutbey Gişeler  2.880687e+15  4.106131e+15   \n",
       "2      1012021.0          D100 Gülsuyu   2.915252e+01  4.092487e+01   \n",
       "3      1012021.0   Kavacık Hisar Evleri  2.909468e+01  4.108283e+01   \n",
       "4      1012021.0       Ümraniye Kavşağı  2.912109e+01  4.102894e+01   \n",
       "...          ...                    ...           ...           ...   \n",
       "97331        NaN                    NaN           NaN           NaN   \n",
       "97332        NaN                    NaN           NaN           NaN   \n",
       "97333        NaN                    NaN           NaN           NaN   \n",
       "97334        NaN                    NaN           NaN           NaN   \n",
       "97335        NaN                    NaN           NaN           NaN   \n",
       "\n",
       "       Arac Sayisi  Unnamed: 5  \n",
       "0          37325.0         NaN  \n",
       "1          24861.0         NaN  \n",
       "2          19380.0         NaN  \n",
       "3          31554.0         NaN  \n",
       "4          24416.0         NaN  \n",
       "...            ...         ...  \n",
       "97331          NaN         NaN  \n",
       "97332          NaN         NaN  \n",
       "97333          NaN         NaN  \n",
       "97334          NaN         NaN  \n",
       "97335          NaN         NaN  \n",
       "\n",
       "[97336 rows x 6 columns]"
      ]
     },
     "execution_count": 290,
     "metadata": {},
     "output_type": "execute_result"
    }
   ],
   "source": [
    "data = pd.read_csv('./data/gunluk-arac-saym-21.csv',encoding='iso8859-9',\n",
    "                   delimiter=';',\n",
    "                  decimal=',',\n",
    "                  thousands='.')\n",
    "data"
   ]
  },
  {
   "cell_type": "code",
   "execution_count": 299,
   "metadata": {},
   "outputs": [
    {
     "data": {
      "text/plain": [
       "Sensor Adi\n",
       "TEM Çakmak Köprüsü              221696.726027\n",
       "TEM Çakmak                      220553.136986\n",
       "TEM İstoç                       189507.446575\n",
       "TEM Halkalı                     188737.295890\n",
       "Bayrampaşa                      180058.857534\n",
       "                                    ...      \n",
       "Ortaköy Sahil                     1074.871233\n",
       "Uskumruköy Bağlantı Yolu           995.386301\n",
       "4. Levent                            0.158904\n",
       "D100 Ambarlı  B.Çekmece Yönü         0.000000\n",
       "Veliefendi                           0.000000\n",
       "Name: Arac Sayisi, Length: 309, dtype: float64"
      ]
     },
     "execution_count": 299,
     "metadata": {},
     "output_type": "execute_result"
    }
   ],
   "source": [
    "totals21 = data.groupby('Sensor Adi')['Arac Sayisi'].sum()\n",
    "totals21.sort_values(ascending=False)/365"
   ]
  },
  {
   "cell_type": "code",
   "execution_count": 12,
   "metadata": {},
   "outputs": [
    {
     "data": {
      "text/plain": [
       "Sensor Adi\n",
       "TEM Çakmak Köprüsü                    80919305.0\n",
       "TEM Çakmak                            80501895.0\n",
       "TEM İstoç                             69170218.0\n",
       "TEM Halkalı                           68889113.0\n",
       "Bayrampaşa                            65721483.0\n",
       "                                         ...    \n",
       "Yavuz Sultan Selim Köprüsü Anadolu     4480544.0\n",
       "Üsküdar Sahil Yolu                     4250159.0\n",
       "Gümüşdere                              4162808.0\n",
       "Aşiyan Parkı                           3880097.0\n",
       "Pirinççi                               3836230.0\n",
       "Name: Arac Sayisi, Length: 264, dtype: float64"
      ]
     },
     "execution_count": 12,
     "metadata": {},
     "output_type": "execute_result"
    }
   ],
   "source": [
    "select = totals21[totals21/365>10000]\n",
    "select.sort_values(ascending=False)"
   ]
  },
  {
   "cell_type": "code",
   "execution_count": 300,
   "metadata": {},
   "outputs": [
    {
     "data": {
      "text/plain": [
       "X Koordinati  Y Koordinati\n",
       "1.000000e+00  1.000000e+00    38677.846575\n",
       "2.838385e+01  4.105210e+01    20058.109589\n",
       "2.839269e+01  4.106764e+01    28664.090411\n",
       "2.843498e+01  4.105169e+01    34295.542466\n",
       "2.845456e+01  4.105414e+01    32528.109589\n",
       "                                  ...     \n",
       "2.936343e+01  4.090512e+01    63379.230137\n",
       "2.937507e+01  4.088631e+01    78453.597260\n",
       "2.888556e+07  4.105083e+07    59976.408219\n",
       "2.908417e+07  4.098802e+07    78348.967123\n",
       "2.880687e+15  4.106131e+15    27676.457534\n",
       "Name: Arac Sayisi, Length: 284, dtype: float64"
      ]
     },
     "execution_count": 300,
     "metadata": {},
     "output_type": "execute_result"
    }
   ],
   "source": [
    "tmp = data.groupby(['X Koordinati','Y Koordinati'])['Arac Sayisi'].sum()/365\n",
    "tmp \n",
    "\n",
    "vehicles = tmp[tmp>1e4]\n",
    "vehicles"
   ]
  },
  {
   "cell_type": "code",
   "execution_count": 301,
   "metadata": {},
   "outputs": [
    {
     "data": {
      "text/html": [
       "<div>\n",
       "<style scoped>\n",
       "    .dataframe tbody tr th:only-of-type {\n",
       "        vertical-align: middle;\n",
       "    }\n",
       "\n",
       "    .dataframe tbody tr th {\n",
       "        vertical-align: top;\n",
       "    }\n",
       "\n",
       "    .dataframe thead th {\n",
       "        text-align: right;\n",
       "    }\n",
       "</style>\n",
       "<table border=\"1\" class=\"dataframe\">\n",
       "  <thead>\n",
       "    <tr style=\"text-align: right;\">\n",
       "      <th></th>\n",
       "      <th></th>\n",
       "      <th>lat</th>\n",
       "      <th>lon</th>\n",
       "    </tr>\n",
       "    <tr>\n",
       "      <th>X Koordinati</th>\n",
       "      <th>Y Koordinati</th>\n",
       "      <th></th>\n",
       "      <th></th>\n",
       "    </tr>\n",
       "  </thead>\n",
       "  <tbody>\n",
       "    <tr>\n",
       "      <th>1.000000e+00</th>\n",
       "      <th>1.000000e+00</th>\n",
       "      <td>1.000000e+00</td>\n",
       "      <td>1.000000e+00</td>\n",
       "    </tr>\n",
       "    <tr>\n",
       "      <th>2.838385e+01</th>\n",
       "      <th>4.105210e+01</th>\n",
       "      <td>2.838385e+01</td>\n",
       "      <td>4.105210e+01</td>\n",
       "    </tr>\n",
       "    <tr>\n",
       "      <th>2.839269e+01</th>\n",
       "      <th>4.106764e+01</th>\n",
       "      <td>2.839269e+01</td>\n",
       "      <td>4.106764e+01</td>\n",
       "    </tr>\n",
       "    <tr>\n",
       "      <th>2.843498e+01</th>\n",
       "      <th>4.105169e+01</th>\n",
       "      <td>2.843498e+01</td>\n",
       "      <td>4.105169e+01</td>\n",
       "    </tr>\n",
       "    <tr>\n",
       "      <th>2.845456e+01</th>\n",
       "      <th>4.105414e+01</th>\n",
       "      <td>2.845456e+01</td>\n",
       "      <td>4.105414e+01</td>\n",
       "    </tr>\n",
       "    <tr>\n",
       "      <th>...</th>\n",
       "      <th>...</th>\n",
       "      <td>...</td>\n",
       "      <td>...</td>\n",
       "    </tr>\n",
       "    <tr>\n",
       "      <th>2.936343e+01</th>\n",
       "      <th>4.090512e+01</th>\n",
       "      <td>2.936343e+01</td>\n",
       "      <td>4.090512e+01</td>\n",
       "    </tr>\n",
       "    <tr>\n",
       "      <th>2.937507e+01</th>\n",
       "      <th>4.088631e+01</th>\n",
       "      <td>2.937507e+01</td>\n",
       "      <td>4.088631e+01</td>\n",
       "    </tr>\n",
       "    <tr>\n",
       "      <th>2.888556e+07</th>\n",
       "      <th>4.105083e+07</th>\n",
       "      <td>2.888556e+07</td>\n",
       "      <td>4.105083e+07</td>\n",
       "    </tr>\n",
       "    <tr>\n",
       "      <th>2.908417e+07</th>\n",
       "      <th>4.098802e+07</th>\n",
       "      <td>2.908417e+07</td>\n",
       "      <td>4.098802e+07</td>\n",
       "    </tr>\n",
       "    <tr>\n",
       "      <th>2.880687e+15</th>\n",
       "      <th>4.106131e+15</th>\n",
       "      <td>2.880687e+15</td>\n",
       "      <td>4.106131e+15</td>\n",
       "    </tr>\n",
       "  </tbody>\n",
       "</table>\n",
       "<p>284 rows × 2 columns</p>\n",
       "</div>"
      ],
      "text/plain": [
       "                                    lat           lon\n",
       "X Koordinati Y Koordinati                            \n",
       "1.000000e+00 1.000000e+00  1.000000e+00  1.000000e+00\n",
       "2.838385e+01 4.105210e+01  2.838385e+01  4.105210e+01\n",
       "2.839269e+01 4.106764e+01  2.839269e+01  4.106764e+01\n",
       "2.843498e+01 4.105169e+01  2.843498e+01  4.105169e+01\n",
       "2.845456e+01 4.105414e+01  2.845456e+01  4.105414e+01\n",
       "...                                 ...           ...\n",
       "2.936343e+01 4.090512e+01  2.936343e+01  4.090512e+01\n",
       "2.937507e+01 4.088631e+01  2.937507e+01  4.088631e+01\n",
       "2.888556e+07 4.105083e+07  2.888556e+07  4.105083e+07\n",
       "2.908417e+07 4.098802e+07  2.908417e+07  4.098802e+07\n",
       "2.880687e+15 4.106131e+15  2.880687e+15  4.106131e+15\n",
       "\n",
       "[284 rows x 2 columns]"
      ]
     },
     "execution_count": 301,
     "metadata": {},
     "output_type": "execute_result"
    }
   ],
   "source": [
    "coords = vehicles.index.to_frame()\n",
    "coords.columns = ['lat','lon']\n",
    "coords"
   ]
  },
  {
   "cell_type": "code",
   "execution_count": 304,
   "metadata": {},
   "outputs": [
    {
     "data": {
      "image/png": "[encoded data removed]",
      "text/plain": [
       "<Figure size 2000x1200 with 1 Axes>"
      ]
     },
     "metadata": {},
     "output_type": "display_data"
    }
   ],
   "source": [
    "fig = plt.figure(figsize=(20,12))\n",
    "\n",
    "m = Basemap(projection='merc',\n",
    "           llcrnrlat = 40.75,\n",
    "           urcrnrlat = 41.5,\n",
    "           llcrnrlon = 27.5,\n",
    "           urcrnrlon = 30.0,\n",
    "           resolution='i')\n",
    "\n",
    "m.drawcoastlines()\n",
    "#m.drawlsmask(land_color='wheat', ocean_color='lightblue')\n",
    "\n",
    "xs,ys = m(coords['lat'], coords['lon'])\n",
    "\n",
    "m.scatter(xs, ys, s=vehicles/1e3, c='red', alpha=0.2)\n",
    "\n",
    "plt.show()"
   ]
  },
  {
   "cell_type": "markdown",
   "metadata": {},
   "source": []
  }
 ],
 "metadata": {
  "kernelspec": {
   "display_name": "Python 3 (ipykernel)",
   "language": "python",
   "name": "python3"
  },
  "language_info": {
   "codemirror_mode": {
    "name": "ipython",
    "version": 3
   },
   "file_extension": ".py",
   "mimetype": "text/x-python",
   "name": "python",
   "nbconvert_exporter": "python",
   "pygments_lexer": "ipython3",
   "version": "3.10.7"
  }
 },
 "nbformat": 4,
 "nbformat_minor": 4
}
